{
 "cells": [
  {
   "cell_type": "markdown",
   "metadata": {},
   "source": [
    "# <center>Python Assignment: Variables, Operators, and Type Casting</center>"
   ]
  },
  {
   "cell_type": "markdown",
   "metadata": {},
   "source": [
    "#### <center>Name: **SAYANTAN NAHA** | Date: **29/08/2024**</center>"
   ]
  },
  {
   "cell_type": "markdown",
   "metadata": {},
   "source": [
    "<hr/>"
   ]
  },
  {
   "cell_type": "markdown",
   "metadata": {},
   "source": [
    "## **1. Understanding Variables -**"
   ]
  },
  {
   "cell_type": "markdown",
   "metadata": {},
   "source": [
    " ##### <u>Variables In Python</u> --> **Variables** are considered as storage locations where we can store or save different types of data values. In **Python**, we don't need to declare which type of data value we are assigning to a particular variable because Python is *dynamically typed*."
   ]
  },
  {
   "cell_type": "markdown",
   "metadata": {},
   "source": [
    "##### **Example :-** To store my name, which is a **string** data type, to a variable : \n",
    "- I need to first initialize the variable with a proper variable name.\n",
    "- Then, I will assign a value, which is my name of **string** datatype, to the variable using the assignment **('=')** operator."
   ]
  },
  {
   "cell_type": "code",
   "execution_count": 7,
   "metadata": {},
   "outputs": [
    {
     "name": "stdout",
     "output_type": "stream",
     "text": [
      "<class 'str'>\n"
     ]
    }
   ],
   "source": [
    "# assigning value to the variable using assignment operator\n",
    "my_name = 'Sayantan Naha'\n",
    "# Checking the data type of the variable, just created, using type() method. \n",
    "# Then by using the print() statement, output the result.\n",
    "print(type(my_name))"
   ]
  },
  {
   "cell_type": "markdown",
   "metadata": {},
   "source": [
    "##### <u>Difference Between **Variables** & **Constants** in Python</u> :-\n",
    "- **Variables** hold the values of different data types and those values can be changed. Hence, variables are mutable in nature. We can also update the values within a variable.\n",
    "- **Constants** are types of variables which are immutable in nature, having a fixed value. We can't edit or replace the constant's value. These values don't change during the execution of the program.\n",
    "\n",
    "##### In Python, we generally don't have a constant in a strict order but here we can create a constant by following the naming convention of ***Uppercase letters***. It prevents re-assigning the value. It becomes a immutable object."
   ]
  },
  {
   "cell_type": "markdown",
   "metadata": {},
   "source": []
  },
  {
   "cell_type": "markdown",
   "metadata": {},
   "source": [
    "## **2. Working with Different Data Types -**"
   ]
  },
  {
   "cell_type": "markdown",
   "metadata": {},
   "source": [
    "### <u>Creating Variables & Displaying Data Types of Each</u>"
   ]
  },
  {
   "cell_type": "markdown",
   "metadata": {},
   "source": [
    "##### Integer | Float | String | Boolean"
   ]
  },
  {
   "cell_type": "code",
   "execution_count": 8,
   "metadata": {},
   "outputs": [],
   "source": [
    "var_int, var_float, var_str, var_bool = 77, 77.56, '77', True"
   ]
  },
  {
   "cell_type": "code",
   "execution_count": 9,
   "metadata": {},
   "outputs": [
    {
     "name": "stdout",
     "output_type": "stream",
     "text": [
      "DataType of Respective Variables:\n",
      "<class 'int'>\n",
      "<class 'float'>\n",
      "<class 'str'>\n",
      "<class 'bool'>\n"
     ]
    }
   ],
   "source": [
    "print(\"DataType of Respective Variables:\",type(var_int),type(var_float),type(var_str),type(var_bool),sep='\\n')"
   ]
  },
  {
   "cell_type": "markdown",
   "metadata": {},
   "source": [
    "## **3. Arithmatic Operators -** These are mathematical symbols to perform operations on numerical values."
   ]
  },
  {
   "cell_type": "markdown",
   "metadata": {},
   "source": [
    "##### Variable declaration"
   ]
  },
  {
   "cell_type": "code",
   "execution_count": 10,
   "metadata": {},
   "outputs": [],
   "source": [
    "first_val = 6\n",
    "second_val = 89\n",
    "third_val = 45.90\n",
    "fourth_val = \"Analytics\"\n",
    "fifth_val = True"
   ]
  },
  {
   "cell_type": "markdown",
   "metadata": {},
   "source": [
    "##### "
   ]
  },
  {
   "cell_type": "markdown",
   "metadata": {},
   "source": [
    "##### <u>Addition</u> ('+') --> Addition operation is performed using this '+' operation, known as addition, that requires minimum two operands. The addition operator adds or concetatenates depending upon the data types of operands."
   ]
  },
  {
   "cell_type": "code",
   "execution_count": 11,
   "metadata": {},
   "outputs": [
    {
     "name": "stdout",
     "output_type": "stream",
     "text": [
      "The Addition Result: 95\n",
      "<class 'int'>\n"
     ]
    }
   ],
   "source": [
    "sum = first_val + second_val\n",
    "print(\"The Addition Result:\",sum)\n",
    "print(type(sum))"
   ]
  },
  {
   "cell_type": "markdown",
   "metadata": {},
   "source": [
    "##### <u>Substraction</u> ('-') --> To perform substraction, the symbol of operation is '-' and it requires minimum two operands where second value gets substracted from the first value to produce the result."
   ]
  },
  {
   "cell_type": "code",
   "execution_count": 12,
   "metadata": {},
   "outputs": [
    {
     "name": "stdout",
     "output_type": "stream",
     "text": [
      "The Result of Substraction: -39.9\n",
      "<class 'float'>\n"
     ]
    }
   ],
   "source": [
    "sub = first_val - third_val\n",
    "print(\"The Result of Substraction:\", sub)\n",
    "print(type(sub))"
   ]
  },
  {
   "cell_type": "markdown",
   "metadata": {},
   "source": [
    "##### <u>Multiplication</u> ('*') --> Using the multiplication operator, the product value of two or more operands are generated."
   ]
  },
  {
   "cell_type": "code",
   "execution_count": 13,
   "metadata": {},
   "outputs": [
    {
     "name": "stdout",
     "output_type": "stream",
     "text": [
      "The Result of Multiplication: AnalyticsAnalyticsAnalyticsAnalyticsAnalyticsAnalytics\n",
      "<class 'str'>\n"
     ]
    }
   ],
   "source": [
    "multi = first_val * fourth_val\n",
    "print(\"The Result of Multiplication:\",multi)\n",
    "print(type(multi))"
   ]
  },
  {
   "cell_type": "markdown",
   "metadata": {},
   "source": [
    "##### <u>Division</u> ('/') --> In division, the first operand gets divided by the second operand and the output will be float data type."
   ]
  },
  {
   "cell_type": "code",
   "execution_count": 14,
   "metadata": {},
   "outputs": [
    {
     "name": "stdout",
     "output_type": "stream",
     "text": [
      "Result of Division: 14.833333333333334\n",
      "<class 'float'>\n"
     ]
    }
   ],
   "source": [
    "div = second_val / first_val\n",
    "print(\"Result of Division:\", div)\n",
    "print(type(div))"
   ]
  },
  {
   "cell_type": "markdown",
   "metadata": {},
   "source": [
    "##### <u>Floor Division</u> ('//') --> When the first operand is divided by the second, the floor value of quotient is generated by this floor division operator as the final result."
   ]
  },
  {
   "cell_type": "code",
   "execution_count": 15,
   "metadata": {},
   "outputs": [
    {
     "name": "stdout",
     "output_type": "stream",
     "text": [
      "Result of Division: 14\n",
      "<class 'int'>\n"
     ]
    }
   ],
   "source": [
    "div_floor = second_val // first_val\n",
    "print(\"Result of Division:\", div_floor)\n",
    "print(type(div_floor))"
   ]
  },
  {
   "cell_type": "markdown",
   "metadata": {},
   "source": [
    "##### <u>Modulus</u> ('%') --> It used to find the remainder as a result, when the first operand is divided by the second operand."
   ]
  },
  {
   "cell_type": "code",
   "execution_count": 16,
   "metadata": {},
   "outputs": [
    {
     "name": "stdout",
     "output_type": "stream",
     "text": [
      "Result of Modulo Operation: 1.9389978213507626\n",
      "<class 'float'>\n"
     ]
    }
   ],
   "source": [
    "mod = second_val / third_val\n",
    "print(\"Result of Modulo Operation:\", mod)\n",
    "print(type(mod))"
   ]
  },
  {
   "cell_type": "markdown",
   "metadata": {},
   "source": [
    "##### <u>Exponentiation</u> ('**') --> This operator raise the first operand to the power of the second operand to get the final value."
   ]
  },
  {
   "cell_type": "code",
   "execution_count": 17,
   "metadata": {},
   "outputs": [
    {
     "name": "stdout",
     "output_type": "stream",
     "text": [
      "<class 'bool'>\n",
      "Result of Exponentiation: 1\n",
      "<class 'int'>\n"
     ]
    }
   ],
   "source": [
    "expo = fifth_val ** first_val\n",
    "print(type(fifth_val))\n",
    "print(\"Result of Exponentiation:\",expo)\n",
    "print(type(expo))"
   ]
  },
  {
   "cell_type": "markdown",
   "metadata": {},
   "source": [
    "##### Write a Python script to calculate the area of a rectangle using variables `length` and `width` with values 5 and 10, respectively. Use the multiplication operator."
   ]
  },
  {
   "cell_type": "code",
   "execution_count": 18,
   "metadata": {},
   "outputs": [
    {
     "name": "stdout",
     "output_type": "stream",
     "text": [
      "AREA OF RECTANGLE = 50\n"
     ]
    }
   ],
   "source": [
    "length = 5\n",
    "width = 10\n",
    "area_rect = length * width\n",
    "print(\"AREA OF RECTANGLE =\",area_rect)"
   ]
  },
  {
   "cell_type": "markdown",
   "metadata": {},
   "source": [
    "## **4. Comparison and Logical Operators -**"
   ]
  },
  {
   "cell_type": "markdown",
   "metadata": {},
   "source": [
    "##### 1. Equal to (`==`) --> Python Equal to operator is used to check for equality. If both of the operands are equal, then will return True, otherwise will return False. Return data type is Boolean."
   ]
  },
  {
   "cell_type": "code",
   "execution_count": 19,
   "metadata": {},
   "outputs": [
    {
     "name": "stdout",
     "output_type": "stream",
     "text": [
      "6\n",
      "89\n",
      "False\n"
     ]
    }
   ],
   "source": [
    "print(first_val)\n",
    "print(second_val)\n",
    "print(first_val == second_val)"
   ]
  },
  {
   "cell_type": "markdown",
   "metadata": {},
   "source": [
    "##### 2. Not equal to (`!=`) --> This is also known as inequality checking. When both the operands are not equal, it will return True and if both of the operands are equal it will return False."
   ]
  },
  {
   "cell_type": "code",
   "execution_count": 20,
   "metadata": {},
   "outputs": [
    {
     "name": "stdout",
     "output_type": "stream",
     "text": [
      "True\n"
     ]
    }
   ],
   "source": [
    "print(second_val != third_val)"
   ]
  },
  {
   "cell_type": "markdown",
   "metadata": {},
   "source": [
    "##### 3. Greater than (`>`) --> Will return True when the left operand is greater than the right operand and False when the left operand is less than the right operand."
   ]
  },
  {
   "cell_type": "code",
   "execution_count": 21,
   "metadata": {},
   "outputs": [
    {
     "name": "stdout",
     "output_type": "stream",
     "text": [
      "False\n"
     ]
    }
   ],
   "source": [
    "print(first_val > second_val)"
   ]
  },
  {
   "cell_type": "markdown",
   "metadata": {},
   "source": [
    "##### 4. Less than (`<`) --> Will return True if the left operand is less than the right operand, and otherwise return False."
   ]
  },
  {
   "cell_type": "code",
   "execution_count": 22,
   "metadata": {},
   "outputs": [
    {
     "name": "stdout",
     "output_type": "stream",
     "text": [
      "True\n"
     ]
    }
   ],
   "source": [
    "print(first_val < second_val)"
   ]
  },
  {
   "cell_type": "markdown",
   "metadata": {},
   "source": [
    "##### 5. Greater than or equal to (`>=`) --> If the left operand is greater than the right operand OR equal with the right operand, then it will return True and False otherwise. If either of the conditions satisfies, the output will be True."
   ]
  },
  {
   "cell_type": "code",
   "execution_count": 23,
   "metadata": {},
   "outputs": [
    {
     "name": "stdout",
     "output_type": "stream",
     "text": [
      "True\n"
     ]
    }
   ],
   "source": [
    "sixth_val = True\n",
    "print(fifth_val >= sixth_val) ## Here, both the values are equal, so one condition is satisfied"
   ]
  },
  {
   "cell_type": "markdown",
   "metadata": {},
   "source": [
    "##### 6. Less than or equal to (`<=`) --> If both of the operands are equal OR the first operand is less then the right operand, the result gets printed as TRUE, and False otherwise."
   ]
  },
  {
   "cell_type": "code",
   "execution_count": 24,
   "metadata": {},
   "outputs": [
    {
     "name": "stdout",
     "output_type": "stream",
     "text": [
      "True\n"
     ]
    }
   ],
   "source": [
    "print(third_val <= second_val) ## Here also, one condition is satisfied, \n",
    "                               ## because first operand is less than the second operand"
   ]
  },
  {
   "cell_type": "markdown",
   "metadata": {},
   "source": [
    "##### Using logical operators (`and`, `or`, `not`), write a Python script that checks if a number is positive and even. "
   ]
  },
  {
   "cell_type": "code",
   "execution_count": 25,
   "metadata": {},
   "outputs": [
    {
     "name": "stdout",
     "output_type": "stream",
     "text": [
      "Number is positive and odd.\n"
     ]
    }
   ],
   "source": [
    "num = 111\n",
    "if not(num == 0):\n",
    "    if (num > 0 and num % 2 == 0):\n",
    "        print(\"Number is positive and even.\")\n",
    "    elif (num > 0 and num % 2 != 0):\n",
    "        print(\"Number is positive and odd.\")\n",
    "    else:\n",
    "        print(\"Number is negative\")\n",
    "else:\n",
    "    print(\"Number is Zero.\")"
   ]
  },
  {
   "cell_type": "markdown",
   "metadata": {},
   "source": [
    "## **5. Type Casting in Python**  "
   ]
  },
  {
   "cell_type": "markdown",
   "metadata": {},
   "source": [
    "##### **<u>Type Casting</u>** - Type Casting is an approach of changing or converting a variable's data type from it's original to certain data type in order to perform any required operation by users.\n",
    "##### There are two categories of type casting :\n",
    "- Implicit Type Casting or Implicit Type Conversion\n",
    "- Explicit Type Casting or Explicit Type Conversion"
   ]
  },
  {
   "cell_type": "markdown",
   "metadata": {},
   "source": [
    "##### **Implicit Type Conversion** - When without any involvement of users, Python automatically converts the datatype into another, it is referred to as Implicit Type Conversion. \n",
    "- **Example** - If we perform addition or substraction between two operands where the first operand is `int` data type the second operand which is of `float` data type, then as per Python's convention, the smaller data type `int` gets converted to the larger data type `float` to avoid any data loss."
   ]
  },
  {
   "cell_type": "code",
   "execution_count": 26,
   "metadata": {},
   "outputs": [
    {
     "name": "stdout",
     "output_type": "stream",
     "text": [
      "205.23000000000002\n"
     ]
    },
    {
     "data": {
      "text/plain": [
       "float"
      ]
     },
     "execution_count": 26,
     "metadata": {},
     "output_type": "execute_result"
    }
   ],
   "source": [
    "num_one = 104 ## smaller data type -> int\n",
    "num_two = 101.23 ## larger data type -> float\n",
    "sum = num_one + num_two\n",
    "print(sum)\n",
    "type(sum)"
   ]
  },
  {
   "cell_type": "markdown",
   "metadata": {},
   "source": [
    "##### **Explicit Type Conversion** - When we the users, convert the data type of an object to a required data type, it is called Explicit Type Conversion.\n",
    "- **Example** - We can use some Python's in-built functions like int(), float(), str() etc to change or caste into a required data type."
   ]
  },
  {
   "cell_type": "code",
   "execution_count": 27,
   "metadata": {},
   "outputs": [
    {
     "name": "stdout",
     "output_type": "stream",
     "text": [
      "Data Type of num_three is: <class 'int'>\n",
      "Data Type of num_four is: <class 'str'>\n",
      "Data Type of num_four after explicit type conversion from str to int: <class 'int'>\n",
      "Sum of num_three & num_four: 908\n",
      "Data Type of num_sum: <class 'int'>\n"
     ]
    }
   ],
   "source": [
    "num_three = 203\n",
    "num_four = '705'\n",
    "print(\"Data Type of num_three is:\",type(num_three))\n",
    "print(\"Data Type of num_four is:\",type(num_four))\n",
    "print(\"Data Type of num_four after explicit type conversion from str to int:\",type(int(num_four)))\n",
    "num_sum = num_three + int(num_four)\n",
    "print(\"Sum of num_three & num_four:\",num_sum)\n",
    "print(\"Data Type of num_sum:\",type(num_sum))"
   ]
  },
  {
   "cell_type": "markdown",
   "metadata": {},
   "source": [
    "##### **Write a Python script that: 1. Converts a float to an integer. 2. Converts an integer to a string. 3. Converts a string to a float.**"
   ]
  },
  {
   "cell_type": "code",
   "execution_count": 28,
   "metadata": {},
   "outputs": [
    {
     "name": "stdout",
     "output_type": "stream",
     "text": [
      "Float to Integer Conversion: 23\n"
     ]
    }
   ],
   "source": [
    "float = 23.45\n",
    "print(\"Float to Integer Conversion:\",int(float))"
   ]
  },
  {
   "cell_type": "code",
   "execution_count": 29,
   "metadata": {},
   "outputs": [
    {
     "name": "stdout",
     "output_type": "stream",
     "text": [
      "Integer to String Conversion: 100\n",
      "<class 'str'>\n"
     ]
    }
   ],
   "source": [
    "integer = 100\n",
    "to_String = str(integer)\n",
    "print(\"Integer to String Conversion:\",to_String)\n",
    "print(type(to_String))"
   ]
  },
  {
   "cell_type": "code",
   "execution_count": 30,
   "metadata": {},
   "outputs": [],
   "source": [
    "string = \"Analytics With Anand\"\n",
    "# to_Float = float(string) ## This conversion isn't possible and it will throw an error --> (TypeError: 'float' object is not callable)"
   ]
  },
  {
   "cell_type": "markdown",
   "metadata": {},
   "source": [
    "### **Practical Exercise: Mini Calculator**\n",
    "##### Write a Python script that asks the user to input two numbers and then: \n",
    "- 1. Adds the two numbers and prints the result. \n",
    "- 2. Subtracts the second number from the first and prints the result. \n",
    "- 3. Multiplies the two numbers and prints the result. \n",
    "- 4. Divides the first number by the second and prints the result (handle division by zero). \n",
    "- 5. Converts the sum of the numbers to a string and prints the type of the result."
   ]
  },
  {
   "cell_type": "code",
   "execution_count": 31,
   "metadata": {},
   "outputs": [
    {
     "name": "stdout",
     "output_type": "stream",
     "text": [
      "Addition of Two Numbers --> 70\n",
      "----------------------------------------\n",
      "Substraction Value --> 70\n",
      "----------------------------------------\n",
      "Result of Multiplication --> 0\n",
      "----------------------------------------\n",
      "ZeroDivisionError! Can't divide by Zero!\n",
      "----------------------------------------\n",
      "Data Type --> <class 'str'>\n"
     ]
    }
   ],
   "source": [
    "n_one = int(input(\"Enter the first number: \"))\n",
    "n_two = int(input(\"Enter the second number: \"))\n",
    "sum_result = n_one + n_two\n",
    "print(\"Addition of Two Numbers -->\",sum_result)\n",
    "\n",
    "print('--'*20)\n",
    "\n",
    "sub_result = n_one - n_two\n",
    "print(\"Substraction Value -->\",sub_result)\n",
    "\n",
    "print('--'*20)\n",
    "\n",
    "multi_result = n_one * n_two\n",
    "print(\"Result of Multiplication -->\",multi_result)\n",
    "\n",
    "print('--'*20)\n",
    "\n",
    "try:\n",
    "    div_result = n_one / n_two\n",
    "except ZeroDivisionError:\n",
    "    print(\"ZeroDivisionError! Can't divide by Zero!\")\n",
    "else:\n",
    "    print(\"Division Value -->\",div_result)\n",
    "\n",
    "print('--'*20)\n",
    "\n",
    "print(\"Data Type -->\",type(str(sum_result)))\n"
   ]
  }
 ],
 "metadata": {
  "kernelspec": {
   "display_name": "Python 3",
   "language": "python",
   "name": "python3"
  },
  "language_info": {
   "codemirror_mode": {
    "name": "ipython",
    "version": 3
   },
   "file_extension": ".py",
   "mimetype": "text/x-python",
   "name": "python",
   "nbconvert_exporter": "python",
   "pygments_lexer": "ipython3",
   "version": "3.12.5"
  }
 },
 "nbformat": 4,
 "nbformat_minor": 2
}
